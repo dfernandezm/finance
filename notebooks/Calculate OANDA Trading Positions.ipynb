{
 "cells": [
  {
   "cell_type": "code",
   "execution_count": 88,
   "metadata": {},
   "outputs": [],
   "source": [
    "import requests\n",
    "import csv\n",
    "import pandas as pd\n",
    "import json\n",
    "import dateutil\n",
    "import time\n",
    "import json\n",
    "\n",
    "rest_api_domain = \"https://api-fxpractice.oanda.com\"\n",
    "\n",
    "def get_token():\n",
    "    f = open('../.practice_token', 'r')\n",
    "    return str(f.read().strip())\n",
    "\n",
    "#access_token = \"\";\n",
    "\n",
    "access_token = get_token()\n",
    "#print(access_token)\n",
    "account_id = \"101-004-7361006-006\"\n",
    "granularity = \"D\"\n",
    "instrument = \"GBP_USD\"\n",
    "number_of_candles = \"180\"\n",
    "candles_endpoint = f'/v3/instruments/{instrument}/candles?count={number_of_candles}&granularity={granularity}'\n",
    "authorization_header = f'Bearer {access_token}'\n",
    "trades_endpoint = f\"/v3/accounts/{account_id}/trades\"\n"
   ]
  },
  {
   "cell_type": "code",
   "execution_count": 89,
   "metadata": {},
   "outputs": [],
   "source": [
    "# Docs: http://developer.oanda.com/rest-live-v20/trade-ep/\n",
    "# For analysis of closed trades: '?instrument=AUD_USD&state=CLOSED&count=500'\n",
    "def get_trades():\n",
    "    global rest_api_domain, trades_endpoint\n",
    "    url = rest_api_domain + trades_endpoint + \"?count=500\"\n",
    "    print(authorization_header)\n",
    "    response = requests.get(url, headers={'Authorization': str(authorization_header)})\n",
    "    response_json = response.json()\n",
    "    trades = response_json['trades']\n",
    "    return trades"
   ]
  },
  {
   "cell_type": "code",
   "execution_count": 90,
   "metadata": {},
   "outputs": [],
   "source": [
    "def trades_by_instrument(instrument, state='OPEN'): #open or closed\n",
    "    global rest_api_domain, trades_endpoint\n",
    "    # Should not do a call per instrument\n",
    "    url = rest_api_domain + trades_endpoint + f\"?instrument={instrument}&state={state}&count=500\"\n",
    "    response = requests.get(url, headers={'Authorization': authorization_header})\n",
    "    response_json = response.json()\n",
    "    trades = response_json['trades']\n",
    "    return trades"
   ]
  },
  {
   "cell_type": "code",
   "execution_count": 57,
   "metadata": {},
   "outputs": [],
   "source": [
    "def datetime_to_utc_timestamp(date_time):\n",
    "    return int(time.mktime(date_time.timetuple()))"
   ]
  },
  {
   "cell_type": "code",
   "execution_count": 58,
   "metadata": {},
   "outputs": [],
   "source": [
    "# receives the time as 'openTime', 'closedTime', 'time' from trade/candle data from Oanda and gets back the unix utc\n",
    "def time_in_response_to_utc(time_in_response):\n",
    "    parsed_date_time = dateutil.parser.parse(time_in_response)\n",
    "    date_time_utc = datetime_to_utc_timestamp(parsed_date_time)\n",
    "    return date_time_utc"
   ]
  },
  {
   "cell_type": "code",
   "execution_count": 126,
   "metadata": {},
   "outputs": [],
   "source": [
    "def financing_per_instrument(instrument, state='OPEN'):\n",
    "    trades = trades_by_instrument(instrument=instrument, state=state)\n",
    "    financing_dict = { 'financing': sum(float(trade['financing']) for trade in trades), 'instrument': instrument, 'trades': len(trades)}\n",
    "    financing_dict['fin_trade'] = float(financing_dict['financing']/financing_dict['trades'])\n",
    "    return financing_dict"
   ]
  },
  {
   "cell_type": "code",
   "execution_count": 127,
   "metadata": {},
   "outputs": [],
   "source": [
    "instruments = [\"NZD_USD\", \"AUD_USD\", \"USD_MXN\", \"GBP_JPY\", \"GBP_USD\", \"AUD_JPY\", \"USD_JPY\", \"EUR_JPY\", \"EUR_USD\"]\n",
    "state = \"OPEN\"\n",
    "\n",
    "financings = [ financing_per_instrument(instr, state) for instr in instruments]\n",
    "\n",
    "\n"
   ]
  },
  {
   "cell_type": "code",
   "execution_count": 128,
   "metadata": {},
   "outputs": [
    {
     "data": {
      "text/plain": [
       "[{'financing': -27.370099999999997,\n",
       "  'instrument': 'NZD_USD',\n",
       "  'trades': 11,\n",
       "  'fin_trade': -2.4881909090909087},\n",
       " {'financing': -53.19259999999999,\n",
       "  'instrument': 'AUD_USD',\n",
       "  'trades': 14,\n",
       "  'fin_trade': -3.799471428571428},\n",
       " {'financing': 0.12460000000000004,\n",
       "  'instrument': 'USD_MXN',\n",
       "  'trades': 2,\n",
       "  'fin_trade': 0.06230000000000002},\n",
       " {'financing': 3.0878,\n",
       "  'instrument': 'GBP_JPY',\n",
       "  'trades': 9,\n",
       "  'fin_trade': 0.3430888888888889},\n",
       " {'financing': -21.093400000000003,\n",
       "  'instrument': 'GBP_USD',\n",
       "  'trades': 3,\n",
       "  'fin_trade': -7.031133333333334},\n",
       " {'financing': 13.417300000000001,\n",
       "  'instrument': 'AUD_JPY',\n",
       "  'trades': 11,\n",
       "  'fin_trade': 1.2197545454545455},\n",
       " {'financing': 3.0542,\n",
       "  'instrument': 'USD_JPY',\n",
       "  'trades': 3,\n",
       "  'fin_trade': 1.0180666666666667},\n",
       " {'financing': -9.879,\n",
       "  'instrument': 'EUR_JPY',\n",
       "  'trades': 8,\n",
       "  'fin_trade': -1.234875},\n",
       " {'financing': -25.7361,\n",
       "  'instrument': 'EUR_USD',\n",
       "  'trades': 5,\n",
       "  'fin_trade': -5.14722}]"
      ]
     },
     "execution_count": 128,
     "metadata": {},
     "output_type": "execute_result"
    }
   ],
   "source": [
    "financings"
   ]
  },
  {
   "cell_type": "code",
   "execution_count": 62,
   "metadata": {},
   "outputs": [],
   "source": [
    "def extract_candlesticks(response_json):\n",
    "    candlesticks = []\n",
    "    for candle in response_json['candles']:\n",
    "        p_open = float(candle['mid']['o'])\n",
    "        p_close = float(candle['mid']['c'])\n",
    "        p_low = float(candle['mid']['l'])\n",
    "        p_high = float(candle['mid']['h'])\n",
    "        the_time = candle['time']\n",
    "        parsed_date_time = dateutil.parser.parse(the_time)\n",
    "        date_time_utc = datetime_to_utc_timestamp(parsed_date_time)\n",
    "        candlestick = { 'open': p_open, 'close': p_close, 'low': p_low, 'high': p_high, 'time': date_time_utc}\n",
    "        candlesticks.append(candlestick)\n",
    "    return {'instrument': response_json['instrument'], 'granularity': response_json['granularity'], 'candles': candlesticks}\n",
    "    "
   ]
  },
  {
   "cell_type": "code",
   "execution_count": 63,
   "metadata": {},
   "outputs": [],
   "source": [
    "def load_candles_as_dict(json_data):\n",
    "    return json.loads(json_data)['candles']\n",
    "\n",
    "def read_json_file(filepath):\n",
    "    with open(filepath, 'r') as thefile:\n",
    "        data = thefile.read()\n",
    "        return load_candles_as_dict(data)"
   ]
  },
  {
   "cell_type": "code",
   "execution_count": 64,
   "metadata": {},
   "outputs": [],
   "source": [
    "#the_time = r['candles'][0]['time']\n",
    "#print(the_time)\n",
    "#print(time.mktime(int(the_time)))\n",
    "#print(time.strftime(\"%x\", time.gmtime(int(the_time))))"
   ]
  },
  {
   "cell_type": "code",
   "execution_count": 65,
   "metadata": {},
   "outputs": [],
   "source": [
    "def format_date(date_as_timestamp):\n",
    "    return time.strftime(\"%x\", time.gmtime(int(date_as_timestamp)))"
   ]
  },
  {
   "cell_type": "code",
   "execution_count": 66,
   "metadata": {},
   "outputs": [],
   "source": [
    "def write_to_json(json_data_as_dict):\n",
    "    with open('/Users/david/Desktop/json_data.json', 'w') as fp:\n",
    "        json.dump(json_data_as_dict, fp)"
   ]
  },
  {
   "cell_type": "code",
   "execution_count": 67,
   "metadata": {},
   "outputs": [],
   "source": [
    "def write_to_csv(candles):\n",
    "     with open('/Users/david/Desktop/csv_data1.csv', 'w') as csvfile:\n",
    "        spamwriter = csv.writer(csvfile,delimiter=',')\n",
    "        for candle in candles:\n",
    "            #print(f'Candle:' + str(candle['close']))\n",
    "            date = format_date(candle['time'])\n",
    "            data_to_write = [date,candle['close']]\n",
    "            print(data_to_write)\n",
    "            spamwriter.writerow(data_to_write)\n",
    "        "
   ]
  },
  {
   "cell_type": "code",
   "execution_count": 68,
   "metadata": {},
   "outputs": [],
   "source": [
    "candles = read_json_file('/Users/david/Desktop/json_data.json')"
   ]
  },
  {
   "cell_type": "code",
   "execution_count": 69,
   "metadata": {},
   "outputs": [],
   "source": [
    "def read_as_pandas_df(trades_json):\n",
    "    df = pd.read_json(json.dumps(trades_json))\n",
    "    return df"
   ]
  },
  {
   "cell_type": "code",
   "execution_count": 70,
   "metadata": {},
   "outputs": [],
   "source": [
    "def parse_trade_from_response(trade, for_open_trades=True):\n",
    "    trade_list = []\n",
    "    instrument = trade['instrument']\n",
    "    open_time = trade['openTime']\n",
    "    units = int(trade['initialUnits'])\n",
    "    direction = \"Buy\" if units > 0 else \"Sell\"\n",
    "    financing = trade['financing']\n",
    "    realized_pl = trade['realizedPL']\n",
    "    initial_margin_req = trade['initialMarginRequired']\n",
    "    open_price = trade['price']\n",
    "    take_profit = 'Not Set'\n",
    "    stop_loss = 'Not Set'\n",
    "    if 'takeProfitOrder' in trade:\n",
    "        take_profit = trade['takeProfitOrder']['price']\n",
    "    if 'stopLossOrder' in trade:\n",
    "        stop_loss = trade['stopLossOrder']['price']\n",
    "    if for_open_trades:\n",
    "        margin_used = trade['marginUsed']\n",
    "        unrealized_pl = trade['unrealizedPL']\n",
    "        trade_list = [instrument, open_time, float(open_price), direction, units, unrealized_pl, take_profit, stop_loss, float(financing)]\n",
    "    else:\n",
    "        close_time = trade['closeTime']\n",
    "        trade_list = [instrument, open_time, close_time, float(open_price), direction, units, take_profit, stop_loss, float(financing)]\n",
    "    return trade_list"
   ]
  },
  {
   "cell_type": "code",
   "execution_count": 71,
   "metadata": {},
   "outputs": [],
   "source": [
    "def get_csv_header():\n",
    "    return [str(\"Instrument\"), str('Open Time'), \"Open Price\", \"Direction\",\"Units\", \"P/L\", \"TP\", \"SL\", \"Financing\"]"
   ]
  },
  {
   "cell_type": "code",
   "execution_count": 72,
   "metadata": {},
   "outputs": [],
   "source": [
    "def write_csv(filename,rows_as_lists):\n",
    "    with open(filename, 'w') as csvfile:\n",
    "        spamwriter = csv.writer(csvfile,delimiter=',')\n",
    "        for row in rows_as_lists:\n",
    "            spamwriter.writerow(row)"
   ]
  },
  {
   "cell_type": "code",
   "execution_count": 73,
   "metadata": {},
   "outputs": [
    {
     "name": "stdout",
     "output_type": "stream",
     "text": [
      "Bearer 07c3f4f198d19e5690ed7e57a317d26b-625b8adfcfd20bef12bf84d9135ac0bf\n"
     ]
    }
   ],
   "source": [
    "trades = get_trades()\n",
    "open_trades = True\n",
    "all_trades = [ parse_trade_from_response(t,open_trades) for t in trades]"
   ]
  },
  {
   "cell_type": "code",
   "execution_count": 74,
   "metadata": {},
   "outputs": [],
   "source": [
    "all_trades = [get_csv_header()] + all_trades"
   ]
  },
  {
   "cell_type": "code",
   "execution_count": 75,
   "metadata": {},
   "outputs": [],
   "source": [
    "write_csv(\"/Users/david/Desktop/trades.csv\",all_trades)"
   ]
  },
  {
   "cell_type": "code",
   "execution_count": 132,
   "metadata": {},
   "outputs": [],
   "source": [
    "def summary(trades, state='OPEN'):\n",
    "    df = read_as_pandas_df(trades)\n",
    "    df['Direction'] = df.apply(lambda row: \"Buy\" if int(row['currentUnits']) > 0 else \"Sell\",axis=1)\n",
    "    df['currentUnits'] = df.apply(lambda row: -1*int(row['currentUnits']) if int(row['currentUnits']) < 0 else int(row['currentUnits']),axis=1)\n",
    "    df['openTime'] = df['openTime'].apply(dateutil.parser.parse, dayfirst=False)\n",
    "    buys = df['currentUnits'][df['Direction'] == 'Buy'].sum()\n",
    "    sells = df['currentUnits'][df['Direction'] == 'Sell'].sum()\n",
    "    direction_counts = df['Direction'].value_counts()\n",
    "    print(\"Directions:\")\n",
    "    print(direction_counts)\n",
    "    print(\"=================\")\n",
    "    print(f\"Units bought: {buys}\")\n",
    "    print(f\"Units sold: {sells}\")\n",
    "    real_or_unreal = 'unrealizedPL' if state is 'OPEN' else 'realizedPL' \n",
    "    df3 = df[['currentUnits','financing',real_or_unreal,'price','instrument','openTime','Direction']]\n",
    "    return df3\n",
    "    "
   ]
  },
  {
   "cell_type": "code",
   "execution_count": 106,
   "metadata": {},
   "outputs": [
    {
     "name": "stdout",
     "output_type": "stream",
     "text": [
      "Bearer 07c3f4f198d19e5690ed7e57a317d26b-625b8adfcfd20bef12bf84d9135ac0bf\n",
      "Directions:\n",
      "Buy     64\n",
      "Sell     3\n",
      "Name: Direction, dtype: int64\n",
      "=================\n",
      "Units bought: 90200\n",
      "Units sold: 3200\n"
     ]
    }
   ],
   "source": [
    "# ======== Only for current open trades ======\n",
    "# https://www.shanelynn.ie/summarising-aggregation-and-grouping-data-in-python-pandas/\n",
    "trades = get_trades()\n",
    "df = read_as_pandas_df(trades)\n",
    "\n",
    "df['Direction'] = df.apply(lambda row: \"Buy\" if int(row['currentUnits']) > 0 else \"Sell\",axis=1)\n",
    "df['currentUnits'] = df.apply(lambda row: -1*int(row['currentUnits']) if int(row['currentUnits']) < 0 else int(row['currentUnits']),axis=1)\n",
    "df['openTime'] = df['openTime'].apply(dateutil.parser.parse, dayfirst=False)\n",
    "buys = df['currentUnits'][df['Direction'] == 'Buy'].sum()\n",
    "sells = df['currentUnits'][df['Direction'] == 'Sell'].sum()\n",
    "direction_counts = df['Direction'].value_counts()\n",
    "print(\"Directions:\")\n",
    "print(direction_counts)\n",
    "print(\"=================\")\n",
    "print(f\"Units bought: {buys}\")\n",
    "print(f\"Units sold: {sells}\")\n"
   ]
  },
  {
   "cell_type": "code",
   "execution_count": 112,
   "metadata": {
    "scrolled": true
   },
   "outputs": [
    {
     "data": {
      "text/html": [
       "<div>\n",
       "<style scoped>\n",
       "    .dataframe tbody tr th:only-of-type {\n",
       "        vertical-align: middle;\n",
       "    }\n",
       "\n",
       "    .dataframe tbody tr th {\n",
       "        vertical-align: top;\n",
       "    }\n",
       "\n",
       "    .dataframe thead th {\n",
       "        text-align: right;\n",
       "    }\n",
       "</style>\n",
       "<table border=\"1\" class=\"dataframe\">\n",
       "  <thead>\n",
       "    <tr style=\"text-align: right;\">\n",
       "      <th></th>\n",
       "      <th>currentUnits</th>\n",
       "      <th>financing</th>\n",
       "      <th>realizedPL</th>\n",
       "      <th>price</th>\n",
       "      <th>instrument</th>\n",
       "      <th>openTime</th>\n",
       "      <th>Direction</th>\n",
       "    </tr>\n",
       "  </thead>\n",
       "  <tbody>\n",
       "    <tr>\n",
       "      <th>2</th>\n",
       "      <td>1200</td>\n",
       "      <td>0.0361</td>\n",
       "      <td>0</td>\n",
       "      <td>74.520</td>\n",
       "      <td>AUD_JPY</td>\n",
       "      <td>2019-06-17 15:09:19.073070+00:00</td>\n",
       "      <td>Buy</td>\n",
       "    </tr>\n",
       "    <tr>\n",
       "      <th>10</th>\n",
       "      <td>1300</td>\n",
       "      <td>0.1156</td>\n",
       "      <td>0</td>\n",
       "      <td>74.814</td>\n",
       "      <td>AUD_JPY</td>\n",
       "      <td>2019-06-13 07:16:00.166038+00:00</td>\n",
       "      <td>Buy</td>\n",
       "    </tr>\n",
       "    <tr>\n",
       "      <th>18</th>\n",
       "      <td>2000</td>\n",
       "      <td>0.6334</td>\n",
       "      <td>0</td>\n",
       "      <td>75.761</td>\n",
       "      <td>AUD_JPY</td>\n",
       "      <td>2019-05-27 16:01:44.037591+00:00</td>\n",
       "      <td>Buy</td>\n",
       "    </tr>\n",
       "    <tr>\n",
       "      <th>22</th>\n",
       "      <td>1400</td>\n",
       "      <td>0.6956</td>\n",
       "      <td>0</td>\n",
       "      <td>76.156</td>\n",
       "      <td>AUD_JPY</td>\n",
       "      <td>2019-05-14 08:18:26.951172+00:00</td>\n",
       "      <td>Buy</td>\n",
       "    </tr>\n",
       "    <tr>\n",
       "      <th>26</th>\n",
       "      <td>1300</td>\n",
       "      <td>0.7220</td>\n",
       "      <td>0</td>\n",
       "      <td>76.667</td>\n",
       "      <td>AUD_JPY</td>\n",
       "      <td>2019-05-09 23:09:29.824122+00:00</td>\n",
       "      <td>Buy</td>\n",
       "    </tr>\n",
       "    <tr>\n",
       "      <th>27</th>\n",
       "      <td>1400</td>\n",
       "      <td>0.8180</td>\n",
       "      <td>0</td>\n",
       "      <td>77.183</td>\n",
       "      <td>AUD_JPY</td>\n",
       "      <td>2019-05-07 17:34:16.968629+00:00</td>\n",
       "      <td>Buy</td>\n",
       "    </tr>\n",
       "    <tr>\n",
       "      <th>32</th>\n",
       "      <td>1500</td>\n",
       "      <td>0.9689</td>\n",
       "      <td>0</td>\n",
       "      <td>77.949</td>\n",
       "      <td>AUD_JPY</td>\n",
       "      <td>2019-05-03 01:05:05.982322+00:00</td>\n",
       "      <td>Buy</td>\n",
       "    </tr>\n",
       "    <tr>\n",
       "      <th>35</th>\n",
       "      <td>1500</td>\n",
       "      <td>0.9947</td>\n",
       "      <td>0</td>\n",
       "      <td>78.235</td>\n",
       "      <td>AUD_JPY</td>\n",
       "      <td>2019-05-01 17:01:13.404586+00:00</td>\n",
       "      <td>Buy</td>\n",
       "    </tr>\n",
       "    <tr>\n",
       "      <th>36</th>\n",
       "      <td>1300</td>\n",
       "      <td>1.2593</td>\n",
       "      <td>0</td>\n",
       "      <td>78.687</td>\n",
       "      <td>AUD_JPY</td>\n",
       "      <td>2019-04-24 08:06:27.728765+00:00</td>\n",
       "      <td>Buy</td>\n",
       "    </tr>\n",
       "    <tr>\n",
       "      <th>39</th>\n",
       "      <td>1100</td>\n",
       "      <td>1.3227</td>\n",
       "      <td>0</td>\n",
       "      <td>79.864</td>\n",
       "      <td>AUD_JPY</td>\n",
       "      <td>2019-04-22 19:25:24.942045+00:00</td>\n",
       "      <td>Buy</td>\n",
       "    </tr>\n",
       "    <tr>\n",
       "      <th>64</th>\n",
       "      <td>2000</td>\n",
       "      <td>5.8510</td>\n",
       "      <td>0</td>\n",
       "      <td>80.933</td>\n",
       "      <td>AUD_JPY</td>\n",
       "      <td>2018-12-17 18:57:59.662289+00:00</td>\n",
       "      <td>Buy</td>\n",
       "    </tr>\n",
       "  </tbody>\n",
       "</table>\n",
       "</div>"
      ],
      "text/plain": [
       "    currentUnits  financing  realizedPL   price instrument  \\\n",
       "2           1200     0.0361           0  74.520    AUD_JPY   \n",
       "10          1300     0.1156           0  74.814    AUD_JPY   \n",
       "18          2000     0.6334           0  75.761    AUD_JPY   \n",
       "22          1400     0.6956           0  76.156    AUD_JPY   \n",
       "26          1300     0.7220           0  76.667    AUD_JPY   \n",
       "27          1400     0.8180           0  77.183    AUD_JPY   \n",
       "32          1500     0.9689           0  77.949    AUD_JPY   \n",
       "35          1500     0.9947           0  78.235    AUD_JPY   \n",
       "36          1300     1.2593           0  78.687    AUD_JPY   \n",
       "39          1100     1.3227           0  79.864    AUD_JPY   \n",
       "64          2000     5.8510           0  80.933    AUD_JPY   \n",
       "\n",
       "                           openTime Direction  \n",
       "2  2019-06-17 15:09:19.073070+00:00       Buy  \n",
       "10 2019-06-13 07:16:00.166038+00:00       Buy  \n",
       "18 2019-05-27 16:01:44.037591+00:00       Buy  \n",
       "22 2019-05-14 08:18:26.951172+00:00       Buy  \n",
       "26 2019-05-09 23:09:29.824122+00:00       Buy  \n",
       "27 2019-05-07 17:34:16.968629+00:00       Buy  \n",
       "32 2019-05-03 01:05:05.982322+00:00       Buy  \n",
       "35 2019-05-01 17:01:13.404586+00:00       Buy  \n",
       "36 2019-04-24 08:06:27.728765+00:00       Buy  \n",
       "39 2019-04-22 19:25:24.942045+00:00       Buy  \n",
       "64 2018-12-17 18:57:59.662289+00:00       Buy  "
      ]
     },
     "execution_count": 112,
     "metadata": {},
     "output_type": "execute_result"
    }
   ],
   "source": [
    "df_grouped = df.groupby(['instrument','Direction'],as_index=False)\n",
    "df2 = df_grouped.agg({'currentUnits':'sum', 'financing': 'sum', 'realizedPL': 'sum'})\n",
    "# df2 = df_grouped.agg({'initialUnits':'sum', 'financing': 'sum', 'realizedPL': 'sum'})\n",
    "# df2['perc'] = df2.apply(lambda row: 100*row['currentUnits']/buys if row['Direction'] == 'Buy' else 100*row['currentUnits']/sells,axis=1)\n",
    "#df2\n",
    "df3 = df[['currentUnits','financing','unrealizedPL','price','instrument','openTime','Direction']]\n",
    "df3 = df3[df3['instrument'] == 'AUD_JPY']\n",
    "df3\n"
   ]
  },
  {
   "cell_type": "code",
   "execution_count": 133,
   "metadata": {},
   "outputs": [],
   "source": [
    "tr = trades_by_instrument('USD_MXN','OPEN')"
   ]
  },
  {
   "cell_type": "code",
   "execution_count": 134,
   "metadata": {},
   "outputs": [
    {
     "name": "stdout",
     "output_type": "stream",
     "text": [
      "Directions:\n",
      "Sell    1\n",
      "Buy     1\n",
      "Name: Direction, dtype: int64\n",
      "=================\n",
      "Units bought: 1300\n",
      "Units sold: 1100\n"
     ]
    },
    {
     "data": {
      "text/html": [
       "<div>\n",
       "<style scoped>\n",
       "    .dataframe tbody tr th:only-of-type {\n",
       "        vertical-align: middle;\n",
       "    }\n",
       "\n",
       "    .dataframe tbody tr th {\n",
       "        vertical-align: top;\n",
       "    }\n",
       "\n",
       "    .dataframe thead th {\n",
       "        text-align: right;\n",
       "    }\n",
       "</style>\n",
       "<table border=\"1\" class=\"dataframe\">\n",
       "  <thead>\n",
       "    <tr style=\"text-align: right;\">\n",
       "      <th></th>\n",
       "      <th>currentUnits</th>\n",
       "      <th>financing</th>\n",
       "      <th>unrealizedPL</th>\n",
       "      <th>price</th>\n",
       "      <th>instrument</th>\n",
       "      <th>openTime</th>\n",
       "      <th>Direction</th>\n",
       "    </tr>\n",
       "  </thead>\n",
       "  <tbody>\n",
       "    <tr>\n",
       "      <th>0</th>\n",
       "      <td>1300</td>\n",
       "      <td>-1.4904</td>\n",
       "      <td>-5.7942</td>\n",
       "      <td>19.13029</td>\n",
       "      <td>USD_MXN</td>\n",
       "      <td>2019-06-11 19:44:12.897942+00:00</td>\n",
       "      <td>Buy</td>\n",
       "    </tr>\n",
       "    <tr>\n",
       "      <th>1</th>\n",
       "      <td>1100</td>\n",
       "      <td>1.6150</td>\n",
       "      <td>5.4346</td>\n",
       "      <td>19.15016</td>\n",
       "      <td>USD_MXN</td>\n",
       "      <td>2019-05-29 18:28:55.978850+00:00</td>\n",
       "      <td>Sell</td>\n",
       "    </tr>\n",
       "  </tbody>\n",
       "</table>\n",
       "</div>"
      ],
      "text/plain": [
       "   currentUnits  financing  unrealizedPL     price instrument  \\\n",
       "0          1300    -1.4904       -5.7942  19.13029    USD_MXN   \n",
       "1          1100     1.6150        5.4346  19.15016    USD_MXN   \n",
       "\n",
       "                          openTime Direction  \n",
       "0 2019-06-11 19:44:12.897942+00:00       Buy  \n",
       "1 2019-05-29 18:28:55.978850+00:00      Sell  "
      ]
     },
     "execution_count": 134,
     "metadata": {},
     "output_type": "execute_result"
    }
   ],
   "source": [
    "summary(tr,'OPEN')"
   ]
  },
  {
   "cell_type": "code",
   "execution_count": null,
   "metadata": {},
   "outputs": [],
   "source": []
  }
 ],
 "metadata": {
  "kernelspec": {
   "display_name": "Python 3",
   "language": "python",
   "name": "python3"
  },
  "language_info": {
   "codemirror_mode": {
    "name": "ipython",
    "version": 3
   },
   "file_extension": ".py",
   "mimetype": "text/x-python",
   "name": "python",
   "nbconvert_exporter": "python",
   "pygments_lexer": "ipython3",
   "version": "3.6.5"
  }
 },
 "nbformat": 4,
 "nbformat_minor": 2
}
