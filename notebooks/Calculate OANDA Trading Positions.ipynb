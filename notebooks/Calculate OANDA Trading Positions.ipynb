{
 "cells": [
  {
   "cell_type": "code",
   "execution_count": 22,
   "metadata": {},
   "outputs": [
    {
     "name": "stdout",
     "output_type": "stream",
     "text": [
      "\n"
     ]
    }
   ],
   "source": [
    "import requests\n",
    "import csv\n",
    "import pandas as pd\n",
    "import json\n",
    "import dateutil\n",
    "import time\n",
    "import json\n",
    "\n",
    "rest_api_domain = \"https://api-fxpractice.oanda.com\"\n",
    "\n",
    "def get_token():\n",
    "    f = open('../.practice_token', 'r')\n",
    "    return str(f.read())\n",
    "\n",
    "access_token = \"\";\n",
    "\n",
    "#access_token = get_token()\n",
    "print(access_token)\n",
    "account_id = \"101-004-7361006-006\"\n",
    "granularity = \"D\"\n",
    "instrument = \"GBP_USD\"\n",
    "number_of_candles = \"180\"\n",
    "candles_endpoint = f'/v3/instruments/{instrument}/candles?count={number_of_candles}&granularity={granularity}'\n",
    "authorization_header = f'Bearer {access_token}'\n",
    "trades_endpoint = f\"/v3/accounts/{account_id}/trades\""
   ]
  },
  {
   "cell_type": "code",
   "execution_count": 26,
   "metadata": {},
   "outputs": [],
   "source": [
    "# Docs: http://developer.oanda.com/rest-live-v20/trade-ep/\n",
    "# For analysis of closed trades: '?instrument=AUD_USD&state=CLOSED&count=500'\n",
    "def get_trades():\n",
    "    global rest_api_domain, trades_endpoint\n",
    "    url = rest_api_domain + trades_endpoint\n",
    "    response = requests.get(url, headers={'Authorization': authorization_header})\n",
    "    response_json = response.json()\n",
    "    trades = response_json['trades']\n",
    "    return trades"
   ]
  },
  {
   "cell_type": "code",
   "execution_count": 43,
   "metadata": {},
   "outputs": [],
   "source": [
    "def trades_by_instrument(instrument, state='OPEN'): #open or closed\n",
    "    global rest_api_domain, trades_endpoint\n",
    "    # Should not do a call per instrument\n",
    "    url = rest_api_domain + trades_endpoint + f\"?instrument={instrument}&state={state}&count=500\"\n",
    "    response = requests.get(url, headers={'Authorization': authorization_header})\n",
    "    response_json = response.json()\n",
    "    trades = response_json['trades']\n",
    "    return trades"
   ]
  },
  {
   "cell_type": "code",
   "execution_count": 3,
   "metadata": {},
   "outputs": [],
   "source": [
    "def datetime_to_utc_timestamp(date_time):\n",
    "    return int(time.mktime(date_time.timetuple()))"
   ]
  },
  {
   "cell_type": "code",
   "execution_count": 56,
   "metadata": {},
   "outputs": [],
   "source": [
    "# receives the time as 'openTime', 'closedTime', 'time' from trade/candle data from Oanda and gets back the unix utc\n",
    "def time_in_response_to_utc(time_in_response):\n",
    "    parsed_date_time = dateutil.parser.parse(time_in_response)\n",
    "    date_time_utc = datetime_to_utc_timestamp(parsed_date_time)\n",
    "    return date_time_utc"
   ]
  },
  {
   "cell_type": "code",
   "execution_count": 70,
   "metadata": {},
   "outputs": [],
   "source": [
    "def financing_per_instrument(instrument, state='OPEN'):\n",
    "    trades = trades_by_instrument(instrument=instrument, state=state)\n",
    "    financing_dict = { 'financing': sum(float(trade['financing']) for trade in trades), 'instrument': instrument, 'trades': len(trades)}\n",
    "    return financing_dict"
   ]
  },
  {
   "cell_type": "code",
   "execution_count": 75,
   "metadata": {},
   "outputs": [],
   "source": [
    "instruments = [\"NZD_USD\", \"AUD_USD\", \"USD_MXN\", \"GBP_JPY\", \"GBP_USD\", \"AUD_JPY\", \"USD_JPY\", \"EUR_JPY\", \"EUR_USD\"]\n",
    "state = \"OPEN\"\n",
    "\n",
    "financings = [ financing_per_instrument(instr, state) for instr in instruments]\n",
    "\n",
    "\n"
   ]
  },
  {
   "cell_type": "code",
   "execution_count": 76,
   "metadata": {},
   "outputs": [
    {
     "data": {
      "text/plain": [
       "[{'financing': -21.549999999999997, 'instrument': 'NZD_USD', 'trades': 13},\n",
       " {'financing': -42.6399, 'instrument': 'AUD_USD', 'trades': 12},\n",
       " {'financing': -11.235700000000001, 'instrument': 'USD_MXN', 'trades': 2},\n",
       " {'financing': 2.4109, 'instrument': 'GBP_JPY', 'trades': 8},\n",
       " {'financing': -14.4807, 'instrument': 'GBP_USD', 'trades': 3},\n",
       " {'financing': 8.8803, 'instrument': 'AUD_JPY', 'trades': 8},\n",
       " {'financing': -7.6377999999999995, 'instrument': 'USD_JPY', 'trades': 2},\n",
       " {'financing': -5.371, 'instrument': 'EUR_JPY', 'trades': 6},\n",
       " {'financing': -28.1661, 'instrument': 'EUR_USD', 'trades': 4}]"
      ]
     },
     "execution_count": 76,
     "metadata": {},
     "output_type": "execute_result"
    }
   ],
   "source": [
    "financings"
   ]
  },
  {
   "cell_type": "code",
   "execution_count": 4,
   "metadata": {},
   "outputs": [],
   "source": [
    "def extract_candlesticks(response_json):\n",
    "    candlesticks = []\n",
    "    for candle in response_json['candles']:\n",
    "        p_open = float(candle['mid']['o'])\n",
    "        p_close = float(candle['mid']['c'])\n",
    "        p_low = float(candle['mid']['l'])\n",
    "        p_high = float(candle['mid']['h'])\n",
    "        the_time = candle['time']\n",
    "        parsed_date_time = dateutil.parser.parse(the_time)\n",
    "        date_time_utc = datetime_to_utc_timestamp(parsed_date_time)\n",
    "        candlestick = { 'open': p_open, 'close': p_close, 'low': p_low, 'high': p_high, 'time': date_time_utc}\n",
    "        candlesticks.append(candlestick)\n",
    "    return {'instrument': response_json['instrument'], 'granularity': response_json['granularity'], 'candles': candlesticks}\n",
    "    "
   ]
  },
  {
   "cell_type": "code",
   "execution_count": 5,
   "metadata": {},
   "outputs": [],
   "source": [
    "def load_candles_as_dict(json_data):\n",
    "    return json.loads(json_data)['candles']\n",
    "\n",
    "def read_json_file(filepath):\n",
    "    with open(filepath, 'r') as thefile:\n",
    "        data = thefile.read()\n",
    "        return load_candles_as_dict(data)"
   ]
  },
  {
   "cell_type": "code",
   "execution_count": 6,
   "metadata": {},
   "outputs": [
    {
     "ename": "NameError",
     "evalue": "name 'r' is not defined",
     "output_type": "error",
     "traceback": [
      "\u001b[0;31m---------------------------------------------------------------------------\u001b[0m",
      "\u001b[0;31mNameError\u001b[0m                                 Traceback (most recent call last)",
      "\u001b[0;32m<ipython-input-6-e07d5ec25aab>\u001b[0m in \u001b[0;36m<module>\u001b[0;34m()\u001b[0m\n\u001b[0;32m----> 1\u001b[0;31m \u001b[0mthe_time\u001b[0m \u001b[0;34m=\u001b[0m \u001b[0mr\u001b[0m\u001b[0;34m[\u001b[0m\u001b[0;34m'candles'\u001b[0m\u001b[0;34m]\u001b[0m\u001b[0;34m[\u001b[0m\u001b[0;36m0\u001b[0m\u001b[0;34m]\u001b[0m\u001b[0;34m[\u001b[0m\u001b[0;34m'time'\u001b[0m\u001b[0;34m]\u001b[0m\u001b[0;34m\u001b[0m\u001b[0m\n\u001b[0m\u001b[1;32m      2\u001b[0m \u001b[0mprint\u001b[0m\u001b[0;34m(\u001b[0m\u001b[0mthe_time\u001b[0m\u001b[0;34m)\u001b[0m\u001b[0;34m\u001b[0m\u001b[0m\n\u001b[1;32m      3\u001b[0m \u001b[0;31m#print(time.mktime(int(the_time)))\u001b[0m\u001b[0;34m\u001b[0m\u001b[0;34m\u001b[0m\u001b[0m\n\u001b[1;32m      4\u001b[0m \u001b[0mprint\u001b[0m\u001b[0;34m(\u001b[0m\u001b[0mtime\u001b[0m\u001b[0;34m.\u001b[0m\u001b[0mstrftime\u001b[0m\u001b[0;34m(\u001b[0m\u001b[0;34m\"%x\"\u001b[0m\u001b[0;34m,\u001b[0m \u001b[0mtime\u001b[0m\u001b[0;34m.\u001b[0m\u001b[0mgmtime\u001b[0m\u001b[0;34m(\u001b[0m\u001b[0mint\u001b[0m\u001b[0;34m(\u001b[0m\u001b[0mthe_time\u001b[0m\u001b[0;34m)\u001b[0m\u001b[0;34m)\u001b[0m\u001b[0;34m)\u001b[0m\u001b[0;34m)\u001b[0m\u001b[0;34m\u001b[0m\u001b[0m\n",
      "\u001b[0;31mNameError\u001b[0m: name 'r' is not defined"
     ]
    }
   ],
   "source": [
    "the_time = r['candles'][0]['time']\n",
    "print(the_time)\n",
    "#print(time.mktime(int(the_time)))\n",
    "print(time.strftime(\"%x\", time.gmtime(int(the_time))))"
   ]
  },
  {
   "cell_type": "code",
   "execution_count": 10,
   "metadata": {},
   "outputs": [],
   "source": [
    "def format_date(date_as_timestamp):\n",
    "    return time.strftime(\"%x\", time.gmtime(int(date_as_timestamp)))"
   ]
  },
  {
   "cell_type": "code",
   "execution_count": 11,
   "metadata": {},
   "outputs": [],
   "source": [
    "def write_to_json(json_data_as_dict):\n",
    "    with open('/Users/david/Desktop/json_data.json', 'w') as fp:\n",
    "        json.dump(json_data_as_dict, fp)"
   ]
  },
  {
   "cell_type": "code",
   "execution_count": 12,
   "metadata": {},
   "outputs": [],
   "source": [
    "def write_to_csv(candles):\n",
    "     with open('/Users/david/Desktop/csv_data1.csv', 'w') as csvfile:\n",
    "        spamwriter = csv.writer(csvfile,delimiter=',')\n",
    "        for candle in candles:\n",
    "            #print(f'Candle:' + str(candle['close']))\n",
    "            date = format_date(candle['time'])\n",
    "            data_to_write = [date,candle['close']]\n",
    "            print(data_to_write)\n",
    "            spamwriter.writerow(data_to_write)\n",
    "        "
   ]
  },
  {
   "cell_type": "code",
   "execution_count": 37,
   "metadata": {},
   "outputs": [],
   "source": [
    "candles = read_json_file('/Users/david/Desktop/json_data.json')"
   ]
  },
  {
   "cell_type": "code",
   "execution_count": 13,
   "metadata": {},
   "outputs": [],
   "source": [
    "def read_as_pandas_df(trades_json):\n",
    "    df = pd.read_json(json.dumps(trades_json))\n",
    "    return df"
   ]
  },
  {
   "cell_type": "code",
   "execution_count": 14,
   "metadata": {},
   "outputs": [],
   "source": [
    "def parse_trade_from_response(trade, for_open_trades=True):\n",
    "    trade_list = []\n",
    "    instrument = trade['instrument']\n",
    "    open_time = trade['openTime']\n",
    "    units = int(trade['initialUnits'])\n",
    "    direction = \"Buy\" if units > 0 else \"Sell\"\n",
    "    financing = trade['financing']\n",
    "    realized_pl = trade['realizedPL']\n",
    "    initial_margin_req = trade['initialMarginRequired']\n",
    "    open_price = trade['price']\n",
    "    take_profit = 'Not Set'\n",
    "    stop_loss = 'Not Set'\n",
    "    if 'takeProfitOrder' in trade:\n",
    "        take_profit = trade['takeProfitOrder']['price']\n",
    "    if 'stopLossOrder' in trade:\n",
    "        stop_loss = trade['stopLossOrder']['price']\n",
    "    if for_open_trades:\n",
    "        margin_used = trade['marginUsed']\n",
    "        unrealized_pl = trade['unrealizedPL']\n",
    "        trade_list = [instrument, open_time, float(open_price), direction, units, unrealized_pl, take_profit, stop_loss, float(financing)]\n",
    "    else:\n",
    "        close_time = trade['closeTime']\n",
    "        trade_list = [instrument, open_time, close_time, float(open_price), direction, units, take_profit, stop_loss, float(financing)]\n",
    "    return trade_list"
   ]
  },
  {
   "cell_type": "code",
   "execution_count": 15,
   "metadata": {},
   "outputs": [],
   "source": [
    "def get_csv_header():\n",
    "    return [str(\"Instrument\"), str('Open Time'), \"Open Price\", \"Direction\",\"Units\", \"P/L\", \"TP\", \"SL\", \"Financing\"]"
   ]
  },
  {
   "cell_type": "code",
   "execution_count": 16,
   "metadata": {},
   "outputs": [],
   "source": [
    "def write_csv(filename,rows_as_lists):\n",
    "    with open(filename, 'w') as csvfile:\n",
    "        spamwriter = csv.writer(csvfile,delimiter=',')\n",
    "        for row in rows_as_lists:\n",
    "            spamwriter.writerow(row)"
   ]
  },
  {
   "cell_type": "code",
   "execution_count": 20,
   "metadata": {},
   "outputs": [],
   "source": [
    "trades = get_trades()\n",
    "open_trades = True\n",
    "all_trades = [ parse_trade_from_response(t,open_trades) for t in trades]"
   ]
  },
  {
   "cell_type": "code",
   "execution_count": 101,
   "metadata": {},
   "outputs": [],
   "source": [
    "all_trades = [get_csv_header()] + all_trades"
   ]
  },
  {
   "cell_type": "code",
   "execution_count": 102,
   "metadata": {},
   "outputs": [],
   "source": [
    "write_csv(\"/Users/david/Desktop/trades.csv\",all_trades)"
   ]
  },
  {
   "cell_type": "code",
   "execution_count": 27,
   "metadata": {},
   "outputs": [
    {
     "ename": "KeyError",
     "evalue": "'trades'",
     "output_type": "error",
     "traceback": [
      "\u001b[0;31m---------------------------------------------------------------------------\u001b[0m",
      "\u001b[0;31mKeyError\u001b[0m                                  Traceback (most recent call last)",
      "\u001b[0;32m<ipython-input-27-f3f155e1e2ae>\u001b[0m in \u001b[0;36m<module>\u001b[0;34m()\u001b[0m\n\u001b[1;32m      1\u001b[0m \u001b[0;31m# ======== Only for current open trades ======\u001b[0m\u001b[0;34m\u001b[0m\u001b[0;34m\u001b[0m\u001b[0m\n\u001b[1;32m      2\u001b[0m \u001b[0;31m# https://www.shanelynn.ie/summarising-aggregation-and-grouping-data-in-python-pandas/\u001b[0m\u001b[0;34m\u001b[0m\u001b[0;34m\u001b[0m\u001b[0m\n\u001b[0;32m----> 3\u001b[0;31m \u001b[0mtrades\u001b[0m \u001b[0;34m=\u001b[0m \u001b[0mget_trades\u001b[0m\u001b[0;34m(\u001b[0m\u001b[0;34m)\u001b[0m\u001b[0;34m\u001b[0m\u001b[0m\n\u001b[0m\u001b[1;32m      4\u001b[0m \u001b[0mdf\u001b[0m \u001b[0;34m=\u001b[0m \u001b[0mread_as_pandas_df\u001b[0m\u001b[0;34m(\u001b[0m\u001b[0mtrades\u001b[0m\u001b[0;34m)\u001b[0m\u001b[0;34m\u001b[0m\u001b[0m\n\u001b[1;32m      5\u001b[0m \u001b[0;31m#df['Direction'] = \"Buy\" if int(df['currentUnits']) > 0 else \"Sell\"\u001b[0m\u001b[0;34m\u001b[0m\u001b[0;34m\u001b[0m\u001b[0m\n",
      "\u001b[0;32m<ipython-input-26-6d9cd1596a95>\u001b[0m in \u001b[0;36mget_trades\u001b[0;34m()\u001b[0m\n\u001b[1;32m      6\u001b[0m     \u001b[0mresponse\u001b[0m \u001b[0;34m=\u001b[0m \u001b[0mrequests\u001b[0m\u001b[0;34m.\u001b[0m\u001b[0mget\u001b[0m\u001b[0;34m(\u001b[0m\u001b[0murl\u001b[0m\u001b[0;34m,\u001b[0m \u001b[0mheaders\u001b[0m\u001b[0;34m=\u001b[0m\u001b[0;34m{\u001b[0m\u001b[0;34m'Authorization'\u001b[0m\u001b[0;34m:\u001b[0m \u001b[0mauthorization_header\u001b[0m\u001b[0;34m}\u001b[0m\u001b[0;34m)\u001b[0m\u001b[0;34m\u001b[0m\u001b[0m\n\u001b[1;32m      7\u001b[0m     \u001b[0mresponse_json\u001b[0m \u001b[0;34m=\u001b[0m \u001b[0mresponse\u001b[0m\u001b[0;34m.\u001b[0m\u001b[0mjson\u001b[0m\u001b[0;34m(\u001b[0m\u001b[0;34m)\u001b[0m\u001b[0;34m\u001b[0m\u001b[0m\n\u001b[0;32m----> 8\u001b[0;31m     \u001b[0mtrades\u001b[0m \u001b[0;34m=\u001b[0m \u001b[0mresponse_json\u001b[0m\u001b[0;34m[\u001b[0m\u001b[0;34m'trades'\u001b[0m\u001b[0;34m]\u001b[0m\u001b[0;34m\u001b[0m\u001b[0m\n\u001b[0m\u001b[1;32m      9\u001b[0m     \u001b[0;32mreturn\u001b[0m \u001b[0mtrades\u001b[0m\u001b[0;34m\u001b[0m\u001b[0m\n",
      "\u001b[0;31mKeyError\u001b[0m: 'trades'"
     ]
    }
   ],
   "source": [
    "# ======== Only for current open trades ======\n",
    "# https://www.shanelynn.ie/summarising-aggregation-and-grouping-data-in-python-pandas/\n",
    "trades = get_trades()\n",
    "df = read_as_pandas_df(trades)\n",
    "#df['Direction'] = \"Buy\" if int(df['currentUnits']) > 0 else \"Sell\"\n",
    "df['Direction'] = df.apply(lambda row: \"Buy\" if int(row['currentUnits']) > 0 else \"Sell\",axis=1)\n",
    "df['currentUnits'] = df.apply(lambda row: -1*int(row['currentUnits']) if int(row['currentUnits']) < 0 else int(row['currentUnits']),axis=1)\n",
    "#df['openTime'] = df['openTime'].apply(dateutil.parser.parse, dayfirst=True)\n",
    "buys = df['currentUnits'][df['Direction'] == 'Buy'].sum()\n",
    "sells = df['currentUnits'][df['Direction'] == 'Sell'].sum()\n",
    "direction_counts = df['Direction'].value_counts()\n",
    "print(\"Directions:\")\n",
    "print(direction_counts)\n",
    "print(\"=================\")\n",
    "print(f\"Units bought: {buys}\")\n",
    "print(f\"Units sold: {sells}\")\n"
   ]
  },
  {
   "cell_type": "code",
   "execution_count": 24,
   "metadata": {
    "scrolled": true
   },
   "outputs": [
    {
     "ename": "NameError",
     "evalue": "name 'df' is not defined",
     "output_type": "error",
     "traceback": [
      "\u001b[0;31m---------------------------------------------------------------------------\u001b[0m",
      "\u001b[0;31mNameError\u001b[0m                                 Traceback (most recent call last)",
      "\u001b[0;32m<ipython-input-24-980e116c1a75>\u001b[0m in \u001b[0;36m<module>\u001b[0;34m()\u001b[0m\n\u001b[0;32m----> 1\u001b[0;31m \u001b[0mdf_grouped\u001b[0m \u001b[0;34m=\u001b[0m \u001b[0mdf\u001b[0m\u001b[0;34m.\u001b[0m\u001b[0mgroupby\u001b[0m\u001b[0;34m(\u001b[0m\u001b[0;34m[\u001b[0m\u001b[0;34m'instrument'\u001b[0m\u001b[0;34m,\u001b[0m\u001b[0;34m'Direction'\u001b[0m\u001b[0;34m]\u001b[0m\u001b[0;34m,\u001b[0m\u001b[0mas_index\u001b[0m\u001b[0;34m=\u001b[0m\u001b[0;32mFalse\u001b[0m\u001b[0;34m)\u001b[0m\u001b[0;34m\u001b[0m\u001b[0m\n\u001b[0m\u001b[1;32m      2\u001b[0m \u001b[0mdf2\u001b[0m \u001b[0;34m=\u001b[0m \u001b[0mdf_grouped\u001b[0m\u001b[0;34m.\u001b[0m\u001b[0magg\u001b[0m\u001b[0;34m(\u001b[0m\u001b[0;34m{\u001b[0m\u001b[0;34m'currentUnits'\u001b[0m\u001b[0;34m:\u001b[0m\u001b[0;34m'sum'\u001b[0m\u001b[0;34m,\u001b[0m \u001b[0;34m'financing'\u001b[0m\u001b[0;34m:\u001b[0m \u001b[0;34m'sum'\u001b[0m\u001b[0;34m,\u001b[0m \u001b[0;34m'realizedPL'\u001b[0m\u001b[0;34m:\u001b[0m \u001b[0;34m'sum'\u001b[0m\u001b[0;34m}\u001b[0m\u001b[0;34m)\u001b[0m\u001b[0;34m\u001b[0m\u001b[0m\n\u001b[1;32m      3\u001b[0m \u001b[0;31m# df2 = df_grouped.agg({'initialUnits':'sum', 'financing': 'sum', 'realizedPL': 'sum'})\u001b[0m\u001b[0;34m\u001b[0m\u001b[0;34m\u001b[0m\u001b[0m\n\u001b[1;32m      4\u001b[0m \u001b[0;31m# df2['perc'] = df2.apply(lambda row: 100*row['currentUnits']/buys if row['Direction'] == 'Buy' else 100*row['currentUnits']/sells,axis=1)\u001b[0m\u001b[0;34m\u001b[0m\u001b[0;34m\u001b[0m\u001b[0m\n\u001b[1;32m      5\u001b[0m \u001b[0mdf2\u001b[0m\u001b[0;34m\u001b[0m\u001b[0m\n",
      "\u001b[0;31mNameError\u001b[0m: name 'df' is not defined"
     ]
    }
   ],
   "source": [
    "df_grouped = df.groupby(['instrument','Direction'],as_index=False)\n",
    "df2 = df_grouped.agg({'currentUnits':'sum', 'financing': 'sum', 'realizedPL': 'sum'})\n",
    "# df2 = df_grouped.agg({'initialUnits':'sum', 'financing': 'sum', 'realizedPL': 'sum'})\n",
    "# df2['perc'] = df2.apply(lambda row: 100*row['currentUnits']/buys if row['Direction'] == 'Buy' else 100*row['currentUnits']/sells,axis=1)\n",
    "df2\n"
   ]
  },
  {
   "cell_type": "code",
   "execution_count": null,
   "metadata": {},
   "outputs": [],
   "source": []
  }
 ],
 "metadata": {
  "kernelspec": {
   "display_name": "Python 3",
   "language": "python",
   "name": "python3"
  },
  "language_info": {
   "codemirror_mode": {
    "name": "ipython",
    "version": 3
   },
   "file_extension": ".py",
   "mimetype": "text/x-python",
   "name": "python",
   "nbconvert_exporter": "python",
   "pygments_lexer": "ipython3",
   "version": "3.6.5"
  }
 },
 "nbformat": 4,
 "nbformat_minor": 2
}
