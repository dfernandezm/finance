{
 "cells": [
  {
   "cell_type": "code",
   "execution_count": null,
   "metadata": {},
   "outputs": [],
   "source": [
    "import requests\n",
    "import csv\n",
    "import pandas as pd\n",
    "import json\n",
    "import dateutil\n",
    "import time\n",
    "import json\n",
    "\n",
    "rest_api_domain = \"https://api-fxpractice.oanda.com\"\n",
    "access_token = \"\";\n",
    "account_id = \"101-004-7361006-006\"\n",
    "granularity = \"D\"\n",
    "instrument = \"GBP_USD\"\n",
    "number_of_candles = \"180\"\n",
    "candles_endpoint = f'/v3/instruments/{instrument}/candles?count={number_of_candles}&granularity={granularity}'\n",
    "authorization_header = f'Bearer {access_token}'\n",
    "trades_endpoint = f\"/v3/accounts/{account_id}/trades\""
   ]
  },
  {
   "cell_type": "code",
   "execution_count": 108,
   "metadata": {},
   "outputs": [],
   "source": [
    "# Docs: http://developer.oanda.com/rest-live-v20/trade-ep/\n",
    "# For analysis of closed trades: '?instrument=AUD_USD&state=CLOSED&count=500'\n",
    "def get_trades():\n",
    "    global rest_api_domain, trades_endpoint\n",
    "    url = rest_api_domain + trades_endpoint\n",
    "    response = requests.get(url, headers={'Authorization': authorization_header})\n",
    "    response_json = response.json()\n",
    "    trades = response_json['trades']\n",
    "    return trades"
   ]
  },
  {
   "cell_type": "code",
   "execution_count": null,
   "metadata": {},
   "outputs": [],
   "source": [
    "def datetime_to_utc_timestamp(date_time):\n",
    "    return int(time.mktime(date_time.timetuple()))"
   ]
  },
  {
   "cell_type": "code",
   "execution_count": 30,
   "metadata": {},
   "outputs": [],
   "source": [
    "def extract_candlesticks(response_json):\n",
    "    candlesticks = []\n",
    "    for candle in response_json['candles']:\n",
    "        p_open = float(candle['mid']['o'])\n",
    "        p_close = float(candle['mid']['c'])\n",
    "        p_low = float(candle['mid']['l'])\n",
    "        p_high = float(candle['mid']['h'])\n",
    "        the_time = candle['time']\n",
    "        parsed_date_time = dateutil.parser.parse(the_time)\n",
    "        date_time_utc = datetime_to_utc_timestamp(parsed_date_time)\n",
    "        candlestick = { 'open': p_open, 'close': p_close, 'low': p_low, 'high': p_high, 'time': date_time_utc}\n",
    "        candlesticks.append(candlestick)\n",
    "    return {'instrument': response_json['instrument'], 'granularity': response_json['granularity'], 'candles': candlesticks}\n",
    "    "
   ]
  },
  {
   "cell_type": "code",
   "execution_count": 31,
   "metadata": {},
   "outputs": [],
   "source": [
    "def load_candles_as_dict(json_data):\n",
    "    return json.loads(json_data)['candles']\n",
    "\n",
    "def read_json_file(filepath):\n",
    "    with open(filepath, 'r') as thefile:\n",
    "        data = thefile.read()\n",
    "        return load_candles_as_dict(data)"
   ]
  },
  {
   "cell_type": "code",
   "execution_count": 33,
   "metadata": {
    "collapsed": true
   },
   "outputs": [
    {
     "name": "stdout",
     "output_type": "stream",
     "text": [
      "1534712400\n",
      "08/19/18\n"
     ]
    }
   ],
   "source": [
    "the_time = r['candles'][0]['time']\n",
    "print(the_time)\n",
    "#print(time.mktime(int(the_time)))\n",
    "print(time.strftime(\"%x\", time.gmtime(int(the_time))))"
   ]
  },
  {
   "cell_type": "code",
   "execution_count": 34,
   "metadata": {},
   "outputs": [],
   "source": [
    "def format_date(date_as_timestamp):\n",
    "    return time.strftime(\"%x\", time.gmtime(int(date_as_timestamp)))"
   ]
  },
  {
   "cell_type": "code",
   "execution_count": 35,
   "metadata": {},
   "outputs": [],
   "source": [
    "def write_to_json(json_data_as_dict):\n",
    "    with open('/Users/david/Desktop/json_data.json', 'w') as fp:\n",
    "        json.dump(json_data_as_dict, fp)"
   ]
  },
  {
   "cell_type": "code",
   "execution_count": 36,
   "metadata": {},
   "outputs": [],
   "source": [
    "def write_to_csv(candles):\n",
    "     with open('/Users/david/Desktop/csv_data1.csv', 'w') as csvfile:\n",
    "        spamwriter = csv.writer(csvfile,delimiter=',')\n",
    "        for candle in candles:\n",
    "            #print(f'Candle:' + str(candle['close']))\n",
    "            date = format_date(candle['time'])\n",
    "            data_to_write = [date,candle['close']]\n",
    "            print(data_to_write)\n",
    "            spamwriter.writerow(data_to_write)\n",
    "        "
   ]
  },
  {
   "cell_type": "code",
   "execution_count": 37,
   "metadata": {},
   "outputs": [],
   "source": [
    "candles = read_json_file('/Users/david/Desktop/json_data.json')"
   ]
  },
  {
   "cell_type": "code",
   "execution_count": 40,
   "metadata": {},
   "outputs": [],
   "source": [
    "def read_as_pandas_df(trades_json):\n",
    "    df = pd.read_json(json.dumps(trades_json))\n",
    "    return df"
   ]
  },
  {
   "cell_type": "code",
   "execution_count": 106,
   "metadata": {},
   "outputs": [],
   "source": [
    "def parse_trade_from_response(trade, for_open_trades=True):\n",
    "    trade_list = []\n",
    "    instrument = trade['instrument']\n",
    "    open_time = trade['openTime']\n",
    "    units = int(trade['initialUnits'])\n",
    "    direction = \"Buy\" if units > 0 else \"Sell\"\n",
    "    financing = trade['financing']\n",
    "    realized_pl = trade['realizedPL']\n",
    "    initial_margin_req = trade['initialMarginRequired']\n",
    "    open_price = trade['price']\n",
    "    take_profit = 'Not Set'\n",
    "    stop_loss = 'Not Set'\n",
    "    if 'takeProfitOrder' in trade:\n",
    "        take_profit = trade['takeProfitOrder']['price']\n",
    "    if 'stopLossOrder' in trade:\n",
    "        stop_loss = trade['stopLossOrder']['price']\n",
    "    if for_open_trades:\n",
    "        margin_used = trade['marginUsed']\n",
    "        unrealized_pl = trade['unrealizedPL']\n",
    "        trade_list = [instrument, open_time, float(open_price), direction, units, unrealized_pl, take_profit, stop_loss, float(financing)]\n",
    "    else:\n",
    "        close_time = trade['closeTime']\n",
    "        trade_list = [instrument, open_time, close_time, float(open_price), direction, units, take_profit, stop_loss, float(financing)]\n",
    "    return trade_list"
   ]
  },
  {
   "cell_type": "code",
   "execution_count": 96,
   "metadata": {},
   "outputs": [],
   "source": [
    "def get_csv_header():\n",
    "    return [str(\"Instrument\"), str('Open Time'), \"Open Price\", \"Direction\",\"Units\", \"P/L\", \"TP\", \"SL\", \"Financing\"]"
   ]
  },
  {
   "cell_type": "code",
   "execution_count": 97,
   "metadata": {},
   "outputs": [],
   "source": [
    "def write_csv(filename,rows_as_lists):\n",
    "    with open(filename, 'w') as csvfile:\n",
    "        spamwriter = csv.writer(csvfile,delimiter=',')\n",
    "        for row in rows_as_lists:\n",
    "            spamwriter.writerow(row)"
   ]
  },
  {
   "cell_type": "code",
   "execution_count": 100,
   "metadata": {},
   "outputs": [],
   "source": [
    "all_trades = [ parse_trade_from_response(t,False) for t in trades]"
   ]
  },
  {
   "cell_type": "code",
   "execution_count": 101,
   "metadata": {},
   "outputs": [],
   "source": [
    "all_trades = [get_csv_header()] + all_trades"
   ]
  },
  {
   "cell_type": "code",
   "execution_count": 102,
   "metadata": {},
   "outputs": [],
   "source": [
    "write_csv(\"/Users/david/Desktop/trades.csv\",all_trades)"
   ]
  },
  {
   "cell_type": "code",
   "execution_count": 105,
   "metadata": {},
   "outputs": [],
   "source": [
    "# ======== Only for current open trades ======\n",
    "# https://www.shanelynn.ie/summarising-aggregation-and-grouping-data-in-python-pandas/\n",
    "df = read_as_pandas_df(trades)\n",
    "#df['Direction'] = \"Buy\" if int(df['currentUnits']) > 0 else \"Sell\"\n",
    "df['Direction'] = df.apply(lambda row: \"Buy\" if int(row['currentUnits']) > 0 else \"Sell\",axis=1)\n",
    "df['currentUnits'] = df.apply(lambda row: -1*int(row['currentUnits']) if int(row['currentUnits']) < 0 else int(row['currentUnits']),axis=1)\n",
    "#df['openTime'] = df['openTime'].apply(dateutil.parser.parse, dayfirst=True)\n",
    "buys = df['currentUnits'][df['Direction'] == 'Buy'].sum()\n",
    "sells = df['currentUnits'][df['Direction'] == 'Sell'].sum()\n",
    "direction_counts = df['Direction'].value_counts()\n",
    "print(\"Directions:\")\n",
    "print(direction_counts)\n",
    "print(\"=================\")\n",
    "print(f\"Units bought: {buys}\")\n",
    "print(f\"Units sold: {sells}\")\n"
   ]
  },
  {
   "cell_type": "code",
   "execution_count": 104,
   "metadata": {
    "scrolled": true
   },
   "outputs": [
    {
     "data": {
      "text/html": [
       "<div>\n",
       "<style scoped>\n",
       "    .dataframe tbody tr th:only-of-type {\n",
       "        vertical-align: middle;\n",
       "    }\n",
       "\n",
       "    .dataframe tbody tr th {\n",
       "        vertical-align: top;\n",
       "    }\n",
       "\n",
       "    .dataframe thead th {\n",
       "        text-align: right;\n",
       "    }\n",
       "</style>\n",
       "<table border=\"1\" class=\"dataframe\">\n",
       "  <thead>\n",
       "    <tr style=\"text-align: right;\">\n",
       "      <th></th>\n",
       "      <th>instrument</th>\n",
       "      <th>Direction</th>\n",
       "      <th>initialUnits</th>\n",
       "      <th>financing</th>\n",
       "      <th>realizedPL</th>\n",
       "    </tr>\n",
       "  </thead>\n",
       "  <tbody>\n",
       "    <tr>\n",
       "      <th>0</th>\n",
       "      <td>AUD_USD</td>\n",
       "      <td>Sell</td>\n",
       "      <td>119300</td>\n",
       "      <td>-57.2147</td>\n",
       "      <td>404.6613</td>\n",
       "    </tr>\n",
       "  </tbody>\n",
       "</table>\n",
       "</div>"
      ],
      "text/plain": [
       "  instrument Direction  initialUnits  financing  realizedPL\n",
       "0    AUD_USD      Sell        119300   -57.2147    404.6613"
      ]
     },
     "execution_count": 104,
     "metadata": {},
     "output_type": "execute_result"
    }
   ],
   "source": [
    "df_grouped = df.groupby(['instrument','Direction'],as_index=False)\n",
    "df2 = df_grouped.agg({'currentUnits':'sum', 'financing': 'sum', 'realizedPL': 'sum'})\n",
    "# df2 = df_grouped.agg({'initialUnits':'sum', 'financing': 'sum', 'realizedPL': 'sum'})\n",
    "# df2['perc'] = df2.apply(lambda row: 100*row['currentUnits']/buys if row['Direction'] == 'Buy' else 100*row['currentUnits']/sells,axis=1)\n",
    "df2\n"
   ]
  }
 ],
 "metadata": {
  "kernelspec": {
   "display_name": "Python 3",
   "language": "python",
   "name": "python3"
  },
  "language_info": {
   "codemirror_mode": {
    "name": "ipython",
    "version": 3
   },
   "file_extension": ".py",
   "mimetype": "text/x-python",
   "name": "python",
   "nbconvert_exporter": "python",
   "pygments_lexer": "ipython3",
   "version": "3.6.5"
  }
 },
 "nbformat": 4,
 "nbformat_minor": 2
}
