{
 "cells": [
  {
   "cell_type": "code",
   "execution_count": 92,
   "metadata": {},
   "outputs": [],
   "source": [
    "from pymongo import MongoClient\n",
    "\n",
    "def connect_to_mongo(mongo_url, dbname):\n",
    "    client = MongoClient(mongo_url)\n",
    "    db = client[dbname]\n",
    "    return (client, db)\n",
    "\n",
    "def delete_all_posts(db):\n",
    "    db.posts.drop()\n",
    "    \n",
    "def find_all_posts(db):\n",
    "    return db.posts.find()\n",
    "\n",
    "def print_posts(posts):\n",
    "    all_posts = [ p for post in posts ]\n",
    "    print(all_posts)\n",
    "\n",
    "def insert_post(db, post):\n",
    "    post_id = db.posts.insert_one(post)\n",
    "    return post_id.inserted_id\n",
    "\n",
    "def insert_posts(db, posts_list):\n",
    "    ins_ids = db.posts.insert_many(posts_list).inserted_ids\n",
    "    return list(map(lambda _id: str(_id), ins_ids))\n",
    "\n",
    "def list_collection_names(db):\n",
    "    print(db.list_collection_names())\n",
    "    \n",
    "def detail_python_object(_object):\n",
    "    _object??"
   ]
  },
  {
   "cell_type": "code",
   "execution_count": 93,
   "metadata": {},
   "outputs": [
    {
     "name": "stdout",
     "output_type": "stream",
     "text": [
      "[]\n"
     ]
    }
   ],
   "source": [
    "import datetime\n",
    "\n",
    "(client, db) = connect_to_mongo('mongodb://localhost:27017/','restdb')\n",
    "delete_all_posts(db)\n",
    "posts = find_all_posts(db)\n",
    "print_posts(posts)"
   ]
  },
  {
   "cell_type": "code",
   "execution_count": 99,
   "metadata": {},
   "outputs": [],
   "source": [
    "def examples():\n",
    "    post = {\n",
    "        \"author\": \"Duke 5\",\n",
    "        \"title\" : \"PyMongo 101 - 5\",\n",
    "        \"tags\" : [\"MongoDB 5\", \"PyMongo 101 - A5\", \"Tutorial 5\"],\n",
    "        \"date\" : datetime.datetime.utcnow()\n",
    "    }\n",
    "\n",
    "    post_id = insert_post(db, post)\n",
    "    print(post_id)\n",
    "\n",
    "    new_posts = [{\"author\": \"Duke 6\",\n",
    "               \"title\" : \"PyMongo 101-A6\",\n",
    "               \"tags\" : [\"MongoDB 6\", \"PyMongo 6\", \"Tutorial 6\"],\n",
    "               \"date\" : datetime.datetime(2015, 11, 28, 1, 13)},\n",
    "             {\"author\": \"Adja\",\n",
    "               \"title\": \"MongoDB 101-A7\",\n",
    "               \"note\": \"Schema free MongoDB\",\n",
    "               \"date\": datetime.datetime(2015, 11, 29, 11, 42)}]\n",
    "\n",
    "    ids = insert_posts(db,new_posts)\n",
    "    print(ids) "
   ]
  },
  {
   "cell_type": "code",
   "execution_count": 101,
   "metadata": {},
   "outputs": [],
   "source": [
    "from flask import Flask\n",
    "from flask import jsonify\n",
    "from flask import request\n",
    "\n",
    "app = Flask(__name__)\n",
    "\n",
    "@app.route('/posts', methods=['GET'])\n",
    "def all_posts():\n",
    "    all_posts = find_all_posts()\n",
    "    return jsonify({'posts' : all_posts})\n",
    "\n",
    "\n",
    "@app.route('/post', methods=['POST'])\n",
    "def add_post():\n",
    "    post_payload = request.json['post']\n",
    "    insert_post(db,post_payload)\n",
    "    #return jsonify({'result' : output})\n",
    "    return ('', 204)\n",
    "\n",
    "#if __name__ == '__main__':\n",
    "#    app.run(debug=True)"
   ]
  }
 ],
 "metadata": {
  "kernelspec": {
   "display_name": "Python 3",
   "language": "python",
   "name": "python3"
  },
  "language_info": {
   "codemirror_mode": {
    "name": "ipython",
    "version": 3
   },
   "file_extension": ".py",
   "mimetype": "text/x-python",
   "name": "python",
   "nbconvert_exporter": "python",
   "pygments_lexer": "ipython3",
   "version": "3.6.5"
  }
 },
 "nbformat": 4,
 "nbformat_minor": 2
}
